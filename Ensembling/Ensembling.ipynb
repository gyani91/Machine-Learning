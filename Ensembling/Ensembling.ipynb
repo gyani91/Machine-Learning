{
 "cells": [
  {
   "cell_type": "code",
   "execution_count": 1,
   "metadata": {},
   "outputs": [],
   "source": [
    "import json\n",
    "import numpy as np\n",
    "\n",
    "from sklearn.model_selection import train_test_split\n",
    "from sklearn.ensemble import (\n",
    "    RandomForestClassifier,\n",
    "    AdaBoostClassifier,\n",
    "    RandomForestRegressor,\n",
    "    GradientBoostingRegressor\n",
    ")\n",
    "from sklearn.neighbors import KNeighborsClassifier\n",
    "from sklearn.linear_model import LinearRegression\n",
    "from sklearn.svm import LinearSVC\n",
    "\n",
    "from scipy.stats import mode\n",
    "\n",
    "import matplotlib.pyplot as plt\n",
    "%matplotlib inline"
   ]
  },
  {
   "cell_type": "code",
   "execution_count": 3,
   "metadata": {},
   "outputs": [],
   "source": [
    "# Splitting data into Train and Test sets (2:1 ratio)\n",
    "def split_data(data):\n",
    "    return train_test_split(data[:,:-1], data[:,-1], test_size=0.33, random_state=42)"
   ]
  },
  {
   "cell_type": "code",
   "execution_count": 4,
   "metadata": {},
   "outputs": [],
   "source": [
    "# Try out several models and also ensemble their results\n",
    "def ensemble_voting(X_train, Y_train, X_test, y_test):   \n",
    "    # Bagging\n",
    "    model1 = RandomForestClassifier(n_estimators=100, bootstrap = True, max_features = 'sqrt')\n",
    "    model1.fit(X_train, Y_train)\n",
    "    pred1 = model1.predict(X_test)\n",
    "    print(\"Accuracy from Random Forrest Classifer: \", (y_test==pred1).sum()/len(pred1))\n",
    "    \n",
    "    # Support Vector Machines\n",
    "    model2 = LinearSVC()\n",
    "    model2.fit(X_train, Y_train)\n",
    "    pred2 = model2.predict(X_test)\n",
    "    print(\"Accuracy from Support Vector Machine: \", (y_test==pred2).sum()/len(pred2))\n",
    "    \n",
    "    # Boosting\n",
    "    model3 = AdaBoostClassifier(n_estimators=100)\n",
    "    model3.fit(X_train, Y_train)\n",
    "    pred3 = model3.predict(X_test)\n",
    "    print(\"Accuracy from Ada Boosting Classifer: \", (y_test==pred3).sum()/len(pred3))\n",
    "    \n",
    "#     # Nearest Neighbour\n",
    "#     model4 = KNeighborsClassifier()\n",
    "#     model4.fit(X_train, Y_train)\n",
    "#     pred4 = model4.predict(X_test)\n",
    "#     print(\"Accuracy from K Nearest Neighbors Classifer: \", (y_test==pred4).sum()/len(pred4))\n",
    "\n",
    "    pred_all = np.append(np.append(pred1.reshape(-1,1), pred2.reshape(-1,1), axis=1), pred3.reshape(-1,1), axis=1)\n",
    "    \n",
    "    pred = np.array(mode(pred_all, axis=1).mode).reshape(1,-1)[0]\n",
    "    \n",
    "    print(\"Accuracy from ensemble: \", (y_test==pred).sum()/len(pred))\n",
    "    \n",
    "    return pred"
   ]
  },
  {
   "cell_type": "code",
   "execution_count": null,
   "metadata": {},
   "outputs": [],
   "source": [
    "# Run Experiment\n",
    "X_train, X_test, y_train, y_test = split_data(data)\n",
    "pred = ensemble_voting(X_train, y_train, X_test, y_test)"
   ]
  }
 ],
 "metadata": {
  "kernelspec": {
   "display_name": "Python 3",
   "language": "python",
   "name": "python3"
  },
  "language_info": {
   "codemirror_mode": {
    "name": "ipython",
    "version": 3
   },
   "file_extension": ".py",
   "mimetype": "text/x-python",
   "name": "python",
   "nbconvert_exporter": "python",
   "pygments_lexer": "ipython3",
   "version": "3.5.0"
  }
 },
 "nbformat": 4,
 "nbformat_minor": 2
}
